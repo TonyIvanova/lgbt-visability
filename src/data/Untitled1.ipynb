{
 "cells": [
  {
   "cell_type": "code",
   "execution_count": null,
   "id": "42eae5a7",
   "metadata": {},
   "outputs": [],
   "source": [
    "import pandas as pd\n",
    "import openpyxl\n",
    "\n",
    "# Load year data\n",
    "year='2022'\n",
    "d = pd.read_excel(f'{year}_raw.xlsx', engine='openpyxl')"
   ]
  },
  {
   "cell_type": "markdown",
   "id": "212790e7",
   "metadata": {},
   "source": [
    "# Map+Pie Yes/No data"
   ]
  },
  {
   "cell_type": "code",
   "execution_count": null,
   "id": "1aac1ab5",
   "metadata": {},
   "outputs": [],
   "source": [
    "cols_economy = [17,20,24,25]\n",
    "cols_discrimination = [28,30,51,52,55,57,58,63,65]\n",
    "cols_threat = [list(range(32, 36))+list(range(37, 42))]\n",
    "\n",
    "def select_cols(cols):\n",
    "    '''Select related columns'''\n",
    "    df= d.iloc[:,[8]+ cols] #8 is Fed okrug\n",
    "    return df\n",
    "\n",
    "\n",
    "def calculate_percentages(df, )\n",
    "    '''Calculate percentage of yes/no per district & question, \n",
    "    and averages across all districts'''\n",
    "\n",
    "    #Count frequencies of responses per question per district\n",
    "    counts = {}\n",
    "    first_col = df.columns[0] ##Федеральный округ\n",
    "    for col in df.columns[1:]:\n",
    "        counts[col] = df.groupby(first_col)[col].value_counts().fillna(0)\n",
    "    #Transform to data frame\n",
    "    counts=pd.DataFrame(counts)\n",
    "    #Calculate total frequencies of responses for the category per district\n",
    "    counts['All'] = counts.iloc[:, 1:].sum(axis=1)\n",
    "\n",
    "    #Get names of the districts\n",
    "    districts = df[first_col].unique()\n",
    "    \n",
    "    #\n",
    "    district_percentages = {}\n",
    "    district_percentages = {}\n",
    "    district_df_count = {}\n",
    "    district_count = {}\n",
    "    distrcict_all={}\n",
    "    all_districts_yes = [0] * len(counts.columns)\n",
    "    all_districts_no = [0] * len(counts.columns)\n",
    "    for district in districts:\n",
    "        #Calculate yes/(yes+no) percentages per column and per disctrict        \n",
    "        for col in counts.columns:\n",
    "            da_count = counts.loc[(district, 'Да'), col] if (district, 'Да') in counts.index else 0\n",
    "            net_count = counts.loc[(district, 'Нет'), col] if (district, 'Нет') in counts.index else 0\n",
    "#             if da_count and net_count: # if both have values                \n",
    "#                 if net_count != 0:\n",
    "#                     district_df_percentages[(district, col)] = (da_count / (da_count + net_count)) * 100\n",
    "#                 else: #to avoid division by 0\n",
    "#                     district_df_percentages[(district, col)] = 100\n",
    "#             else:# if one has no value = 0 \n",
    "#                 if not net_count: # some yes + 0|NA no\n",
    "#                     district_df_percentages[(district, col)] = 100\n",
    "#                 else: # some no + 0 yes  assuming there is no situation when 0 yes & 0 no\n",
    "#                     district_df_percentages[(district, col)] = 0\n",
    "            if da_count + net_count != 0: \n",
    "                district_percentages[(district, col)] = (da_count / (da_count + net_count)) * 100\n",
    "            elif (district, 'Да') not in counts.index:\n",
    "                district_percentages[(district, col)] = 0\n",
    "\n",
    "            else:\n",
    "                district_percentages[(district, col)] = 100\n",
    "\n",
    "        print(data.loc[(district, 'Да')])\n",
    "\n",
    "#To dataframe\n",
    "df_district_percentages = pd.DataFrame(list(district_percentages.items()), columns=['District_Column', 'Percentage'])\n",
    "df_district_percentages[['District', 'Column']] = pd.DataFrame(df_district_percentages['District_Column'].tolist(), \n",
    "                                                                          index=df_district_percentages.index)\n",
    "df_district_percentages = df_district_percentages.pivot(index='District', columns='Column', values='Percentage')\n",
    "\n",
    "#Averages across all districts\n",
    "averages = df_district_df_percentages.mean()\n",
    "df_district_df_percentages.loc['Все'] = averages\n"
   ]
  }
 ],
 "metadata": {
  "kernelspec": {
   "display_name": "Python 3 (ipykernel)",
   "language": "python",
   "name": "python3"
  },
  "language_info": {
   "codemirror_mode": {
    "name": "ipython",
    "version": 3
   },
   "file_extension": ".py",
   "mimetype": "text/x-python",
   "name": "python",
   "nbconvert_exporter": "python",
   "pygments_lexer": "ipython3",
   "version": "3.9.4"
  }
 },
 "nbformat": 4,
 "nbformat_minor": 5
}
