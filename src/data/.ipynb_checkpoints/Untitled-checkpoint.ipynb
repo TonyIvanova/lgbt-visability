{
 "cells": [
  {
   "cell_type": "code",
   "execution_count": 1,
   "id": "6623b348",
   "metadata": {},
   "outputs": [],
   "source": [
    "import pandas as pd\n",
    "import openpyxl"
   ]
  },
  {
   "cell_type": "code",
   "execution_count": 131,
   "id": "b69a6ac4",
   "metadata": {},
   "outputs": [],
   "source": [
    "# pip install openpyxl pandas"
   ]
  },
  {
   "cell_type": "markdown",
   "id": "2603e3d8",
   "metadata": {},
   "source": [
    "# Отаке"
   ]
  },
  {
   "cell_type": "code",
   "execution_count": 375,
   "id": "405db0da",
   "metadata": {},
   "outputs": [
    {
     "name": "stderr",
     "output_type": "stream",
     "text": [
      "/Library/Frameworks/Python.framework/Versions/3.9/lib/python3.9/site-packages/openpyxl/worksheet/_reader.py:329: UserWarning: Unknown extension is not supported and will be removed\n",
      "  warn(msg)\n"
     ]
    }
   ],
   "source": [
    "\n",
    "df = pd.read_excel('2022_raw.xlsx', engine='openpyxl')\n",
    "\n",
    "#selec threat related colums\n",
    "df_threat = df.iloc[:, [7, 8] + list(range(32, 36))+list(range(37, 42))]\n",
    "df_threat = df_threat.drop(columns=df_threat.columns[7])\n",
    "# df_threat.head(1)\n",
    "\n",
    "#coun frequencies\n",
    "df_threat_counts = {}\n",
    "first_col = df_threat.columns[1] ##Федеральный округ\n",
    "for col in df_threat.columns[2:]:\n",
    "    df_threat_counts[col] = df_threat.groupby(first_col)[col].value_counts()#.fillna(0)\n",
    "#     print(df_threat_counts[col])\n",
    "# pd.DataFrame(result)\n",
    "\n",
    "# transform to data frame\n",
    "threat_counts=pd.DataFrame(df_threat_counts)\n",
    "threat_counts['all'] = threat_counts.iloc[:, 2:].sum(axis=1)\n",
    "\n",
    "districts = df_threat[first_col].unique()\n",
    "district_percentages = {}\n",
    "district_threat_percentages = {}\n",
    "district_threat_count = {}\n",
    "district_count = {}\n",
    "distrcict_all={}\n",
    "all_districts_yes = [0] * len(threat_counts.columns)\n",
    "all_districts_no = [0] * len(threat_counts.columns)\n",
    "\n",
    "# calculate percentages\n",
    "for district in districts:\n",
    "    total_yes = threat_counts.loc[(district, 'Да'), 'all'] if (district, 'Да') in threat_counts.index else 0\n",
    "    total_no = threat_counts.loc[(district, 'Нет'), 'all'] if (district, 'Нет') in threat_counts.index else 0\n",
    "\n",
    "#     print(total_yes)\n",
    "#     print(total_no)\n",
    "    if total_yes + total_no != 0: \n",
    "        district_percentages[district] =  (total_yes / (total_yes + total_no)) * 100\n",
    "    else:\n",
    "        district_percentages[district] = 0\n",
    "\n",
    "    for col in threat_counts.columns:\n",
    "        da_count = threat_counts.loc[(district, 'Да'), col] if (district, 'Да') in threat_counts.index else 0\n",
    "        net_count = threat_counts.loc[(district, 'Нет'), col] if (district, 'Нет') in threat_counts.index else 0\n",
    "        \n",
    "#         print(threat_counts.loc[(district, 'Да')])\n",
    "#         print(da_count)\n",
    "#         print(net_count)\n",
    "#         print(threat_counts.loc[(district, 'Да'), col])\n",
    "        if da_count + net_count != 0: \n",
    "            district_threat_percentages[(district, col)] = (da_count / (da_count + net_count)) * 100\n",
    "        elif (district, 'Да') not in data.index:\n",
    "            district_threat_percentages[(district, col)] = 0\n",
    "           \n",
    "        else:\n",
    "            district_threat_percentages[(district, col)] = 100\n",
    "\n",
    "#     print(data.loc[(district, 'Да')])\n",
    "    all_districts_yes += threat_counts.loc[(district, 'Да')].values #if (district, 'Да') in data.index else [0] * len(data.columns)\n",
    "    all_districts_no += threat_counts.loc[(district, 'Нет')].values #if (district, 'Нет') in data.index else [0] * len(data.columns)\n",
    "\n",
    "    \n",
    "# transform to data frame\n",
    "df_district_percentages = pd.DataFrame(list(district_percentages.items()), columns=['District', 'Percentage'])\n",
    "df_district_threat_percentages = pd.DataFrame(list(district_threat_percentages.items()), columns=['District_Column', 'Percentage'])\n",
    "df_district_threat_percentages[['District', 'Column']] = pd.DataFrame(df_district_threat_percentages['District_Column'].tolist(), index=df_district_threat_percentages.index)\n",
    "df_district_threat_percentages = df_district_threat_percentages.pivot(index='District', columns='Column', values='Percentage')\n"
   ]
  },
  {
   "cell_type": "code",
   "execution_count": 376,
   "id": "579832d5",
   "metadata": {},
   "outputs": [
    {
     "name": "stderr",
     "output_type": "stream",
     "text": [
      "/var/folders/_b/xz5gy50j1vbb665n4v6n1z4c0000gn/T/ipykernel_89373/2916998733.py:3: FutureWarning: The frame.append method is deprecated and will be removed from pandas in a future version. Use pandas.concat instead.\n",
      "  df_district_threat_percentages = df_district_threat_percentages.append(new_row)\n"
     ]
    }
   ],
   "source": [
    "threat_percentages = all_districts_yes/(all_districts_yes+all_districts_no)*100\n",
    "new_row = pd.Series(threat_percentages, index=df_district_threat_percentages.columns, name=\"All Districts\")\n",
    "df_district_threat_percentages = df_district_threat_percentages.append(new_row)"
   ]
  },
  {
   "cell_type": "code",
   "execution_count": 379,
   "id": "ee7ffcce",
   "metadata": {},
   "outputs": [],
   "source": [
    "# df_district_threat_percentages"
   ]
  },
  {
   "cell_type": "code",
   "execution_count": 371,
   "id": "b0b423ec",
   "metadata": {},
   "outputs": [],
   "source": [
    "# df_district_percentages"
   ]
  },
  {
   "cell_type": "code",
   "execution_count": 378,
   "id": "b2b37c37",
   "metadata": {},
   "outputs": [],
   "source": [
    "df_district_threat_percentages.to_csv('summary_threat_percent.csv')\n",
    "# df_district_percentages.to_csv('summary_threat_percent_total.csv')\n",
    "\n"
   ]
  },
  {
   "cell_type": "markdown",
   "id": "4e504ef5",
   "metadata": {},
   "source": [
    "# Опасносте\n"
   ]
  },
  {
   "cell_type": "code",
   "execution_count": 433,
   "id": "57c19bb5",
   "metadata": {},
   "outputs": [
    {
     "name": "stderr",
     "output_type": "stream",
     "text": [
      "/Library/Frameworks/Python.framework/Versions/3.9/lib/python3.9/site-packages/openpyxl/worksheet/_reader.py:329: UserWarning: Unknown extension is not supported and will be removed\n",
      "  warn(msg)\n",
      "/var/folders/_b/xz5gy50j1vbb665n4v6n1z4c0000gn/T/ipykernel_89373/3847124033.py:65: FutureWarning: The frame.append method is deprecated and will be removed from pandas in a future version. Use pandas.concat instead.\n",
      "  df_district_discrim_percentages = df_district_threat_percentages.append(new_row)\n"
     ]
    }
   ],
   "source": [
    "\n",
    "df = pd.read_excel('2022_raw.xlsx', engine='openpyxl')\n",
    "\n",
    "#selec  related colums\n",
    "df_discrim = df.iloc[:, [8,28,30,51,52,55,57,58,63,65] ]\n",
    "\n",
    "#coun frequencies\n",
    "discrim_counts = {}\n",
    "first_col = df_discrim.columns[0] ##Федеральный округ\n",
    "for col in df_discrim.columns[1:]:\n",
    "    discrim_counts[col] = df_discrim.groupby(first_col)[col].value_counts()#.fillna(0)\n",
    "\n",
    "pd.DataFrame(discrim_counts)\n",
    "\n",
    "# # transform to data frame\n",
    "discrim_counts=pd.DataFrame(result)\n",
    "discrim_counts['all'] = discrim_counts.iloc[:, 1:].sum(axis=1)\n",
    "\n",
    "\n",
    "districts = df_discrim[first_col].unique()\n",
    "district_percentages = {}\n",
    "district_discrim_percentages = {}\n",
    "district_discrim_count = {}\n",
    "district_count = {}\n",
    "distrcict_all={}\n",
    "all_districts_yes = [0] * len(discrim_counts.columns)\n",
    "all_districts_no = [0] * len(discrim_counts.columns)\n",
    "\n",
    "# calculate percentages\n",
    "for district in districts:\n",
    "    total_yes = discrim_counts.loc[(district, 'Да'), 'all'] if (district, 'Да') in discrim_counts.index else 0\n",
    "    total_no = discrim_counts.loc[(district, 'Нет'), 'all'] if (district, 'Нет') in discrim_counts.index else 0\n",
    "\n",
    "#     print(total_yes)\n",
    "#     print(total_no)\n",
    "    if total_yes + total_no != 0: \n",
    "        district_percentages[district] =  (total_yes / (total_yes + total_no)) * 100\n",
    "    else:\n",
    "        district_percentages[district] = 0\n",
    "\n",
    "    for col in discrim_counts.columns:\n",
    "        da_count = discrim_counts.loc[(district, 'Да'), col] if (district, 'Да') in discrim_counts.index else 0\n",
    "        net_count = discrim_counts.loc[(district, 'Нет'), col] if (district, 'Нет') in discrim_counts.index else 0\n",
    "        \n",
    "        if da_count + net_count != 0: \n",
    "            district_discrim_percentages[(district, col)] = (da_count / (da_count + net_count)) * 100\n",
    "        elif (district, 'Да') not in discrim_counts.index:\n",
    "            district_discrim_percentages[(district, col)] = 0\n",
    "           \n",
    "        else:\n",
    "            district_discrim_percentages[(district, col)] = 100\n",
    "\n",
    "#     print(data.loc[(district, 'Да')])\n",
    "    all_districts_yes += discrim_counts.loc[(district, 'Да')].values #if (district, 'Да') in data.index else [0] * len(data.columns)\n",
    "    all_districts_no += discrim_counts.loc[(district, 'Нет')].values #if (district, 'Нет') in data.index else [0] * len(data.columns)\n",
    "\n",
    "    \n",
    "# transform to data frame\n",
    "# df_district_percentages = pd.DataFrame(list(district_percentages.items()), columns=['District', 'Percentage'])\n",
    "df_district_discrim_percentages = pd.DataFrame(list(district_discrim_percentages.items()), columns=['District_Column', 'Percentage'])\n",
    "df_district_discrim_percentages[['District', 'Column']] = pd.DataFrame(df_district_discrim_percentages['District_Column'].tolist(), index=df_district_discrim_percentages.index)\n",
    "df_district_discrim_percentages = df_district_discrim_percentages.pivot(index='District', columns='Column', values='Percentage')\n",
    "\n",
    "discrim_percentages = all_districts_yes/(all_districts_yes+all_districts_no)*100\n",
    "new_row = pd.Series(discrim_percentages, index=df_district_threat_percentages.columns, name=\"Все\")\n",
    "df_district_discrim_percentages = df_district_threat_percentages.append(new_row)\n"
   ]
  },
  {
   "cell_type": "code",
   "execution_count": 436,
   "id": "02c4b669",
   "metadata": {},
   "outputs": [],
   "source": [
    "# df_district_discrim_percentages"
   ]
  },
  {
   "cell_type": "code",
   "execution_count": 424,
   "id": "4c741c71",
   "metadata": {},
   "outputs": [
    {
     "data": {
      "text/plain": [
       "{'Федеральный округ': array(['Сибирский федеральный округ', 'Центральный федеральный округ',\n",
       "        'Уральский федеральный округ', 'Дальневосточный федеральный округ',\n",
       "        'Приволжский федеральный округ',\n",
       "        'Северо-Западный федеральный округ', 'Южный федеральный округ',\n",
       "        'Северо-Кавказский федеральный округ'], dtype=object),\n",
       " 'Были ли у вас в 2022 году какие-либо проблемы при поиске места работы/учебы из-за сексуальной ориентации и/или трансгендерности?': array(['Да', nan, 'Нет'], dtype=object),\n",
       " 'Приходилось ли вам в 2022 году терять работу/место учёбы из-за сексуальной ориентации и/или трансгендерности?': array(['Нет', 'Затрудняюсь ответить', 'Да'], dtype=object),\n",
       " 'Приходилось ли вам в 2022 году сталкиваться с отказом в предоставлении медицинских услуг из-за вашей сексуальной ориентации и/или трансгендерностии?': array(['Да', nan, 'Нет'], dtype=object),\n",
       " 'Приходилось ли вам в 2022 году сталкиваться с насильственными/ дискриминирующими действиями врачей на почве гомофобии/трансфобии?': array(['Да', nan, 'Нет'], dtype=object),\n",
       " 'Приходилось ли вам в 2022 году сталкиваться со случаями отказа в доступе к государственным услугам из-за сексуальной ориентации и/или трансгендерности? ': array(['Нет', 'Да'], dtype=object),\n",
       " 'Сталкивались ли вы в 2022 году с ситуацией, когда вас лишили жилья из-за вашей сексуальной ориентации и/или трансгендерности?': array(['Нет', 'Да'], dtype=object),\n",
       " 'Сталкивались ли вы в 2022 году с трудностями в поиске жилья в связи с  вашей сексуальной ориентацией, трансгендерностью или гендерной неконформностью?': array(['Нет', 'Да'], dtype=object),\n",
       " 'Сталкивались ли вы в 2022 году с трудностями при взаимодействии с органами опеки из-за ваших сексуальной ориентации и/или трансгендерности?': array([nan, 'Нет', 'Да'], dtype=object),\n",
       " 'Сталкивались ли вы в 2022 году с трудностями при взаимодействии с детскими образовательными или медицинскими учреждениями из-за ваших сексуальной ориентации и/или трансгендерности?': array([nan, 'Нет', 'Да'], dtype=object)}"
      ]
     },
     "execution_count": 424,
     "metadata": {},
     "output_type": "execute_result"
    }
   ],
   "source": [
    "unique_values = {col: df_discrim[col].unique() for col in df_discrim.columns}\n",
    "unique_values"
   ]
  },
  {
   "cell_type": "code",
   "execution_count": 435,
   "id": "16b141dc",
   "metadata": {},
   "outputs": [],
   "source": [
    "df_district_discrim_percentages.to_csv('summary_discrim_percent.csv')"
   ]
  },
  {
   "cell_type": "code",
   "execution_count": null,
   "id": "1f71999a",
   "metadata": {},
   "outputs": [],
   "source": []
  },
  {
   "cell_type": "code",
   "execution_count": null,
   "id": "7ffa9de0",
   "metadata": {},
   "outputs": [],
   "source": []
  },
  {
   "cell_type": "code",
   "execution_count": null,
   "id": "4cfacd67",
   "metadata": {},
   "outputs": [],
   "source": []
  }
 ],
 "metadata": {
  "kernelspec": {
   "display_name": "Python 3 (ipykernel)",
   "language": "python",
   "name": "python3"
  },
  "language_info": {
   "codemirror_mode": {
    "name": "ipython",
    "version": 3
   },
   "file_extension": ".py",
   "mimetype": "text/x-python",
   "name": "python",
   "nbconvert_exporter": "python",
   "pygments_lexer": "ipython3",
   "version": "3.9.4"
  }
 },
 "nbformat": 4,
 "nbformat_minor": 5
}
